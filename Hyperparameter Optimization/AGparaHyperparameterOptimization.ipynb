{
  "nbformat": 4,
  "nbformat_minor": 0,
  "metadata": {
    "colab": {
      "provenance": []
    },
    "kernelspec": {
      "name": "python3",
      "display_name": "Python 3"
    },
    "language_info": {
      "name": "python"
    }
  },
  "cells": [
    {
      "cell_type": "code",
      "execution_count": null,
      "metadata": {
        "id": "erlZ9lvMnYuc"
      },
      "outputs": [],
      "source": [
        "import numpy as np\n",
        "import random\n",
        "from sklearn import datasets\n",
        "from sklearn.model_selection import cross_val_score\n",
        "from sklearn.svm import SVC"
      ]
    },
    {
      "cell_type": "code",
      "source": [
        "# Dataset de prueba\n",
        "iris = datasets.load_iris()\n",
        "X, y = iris.data, iris.target"
      ],
      "metadata": {
        "id": "kT7BUOUPnmZ7"
      },
      "execution_count": null,
      "outputs": []
    },
    {
      "cell_type": "code",
      "source": [
        "# Espacios de hiperparámetros\n",
        "C_values = [0.1, 1, 10, 100]\n",
        "gamma_values = [0.001, 0.01, 0.1, 1]\n",
        "kernel_values = [\"linear\", \"rbf\", \"poly\"]"
      ],
      "metadata": {
        "id": "NC5-loJ2npNQ"
      },
      "execution_count": null,
      "outputs": []
    },
    {
      "cell_type": "code",
      "source": [
        "# Representación de un cromosoma (C, gamma, kernel)\n",
        "def random_chromosome():\n",
        "    return [random.choice(C_values),\n",
        "            random.choice(gamma_values),\n",
        "            random.choice(kernel_values)]"
      ],
      "metadata": {
        "id": "4wOBfGejnrcN"
      },
      "execution_count": null,
      "outputs": []
    },
    {
      "cell_type": "code",
      "source": [
        "# Fitness: accuracy promedio con validación cruzada\n",
        "def fitness(chromosome):\n",
        "    C, gamma, kernel = chromosome\n",
        "    model = SVC(C=C, gamma=gamma, kernel=kernel)\n",
        "    scores = cross_val_score(model, X, y, cv=3)\n",
        "    return scores.mean()"
      ],
      "metadata": {
        "id": "1AukYjGFnueH"
      },
      "execution_count": null,
      "outputs": []
    },
    {
      "cell_type": "code",
      "source": [
        "# Selección: torneo\n",
        "def selection(population, fitnesses, k=3):\n",
        "    selected = random.sample(list(zip(population, fitnesses)), k)\n",
        "    return max(selected, key=lambda x: x[1])[0]"
      ],
      "metadata": {
        "id": "IbXDHpsJnznA"
      },
      "execution_count": null,
      "outputs": []
    },
    {
      "cell_type": "code",
      "source": [
        "# Crossover: intercambiar genes\n",
        "def crossover(parent1, parent2):\n",
        "    point = random.randint(0, 2)  # punto de cruce\n",
        "    child = parent1[:point] + parent2[point:]\n",
        "    return child"
      ],
      "metadata": {
        "id": "DcR0-Qzgn0t9"
      },
      "execution_count": null,
      "outputs": []
    },
    {
      "cell_type": "code",
      "source": [
        "# Mutación: cambiar un hiperparámetro\n",
        "def mutate(chromosome, mutation_rate=0.2):\n",
        "    if random.random() < mutation_rate:\n",
        "        chromosome[0] = random.choice(C_values)\n",
        "    if random.random() < mutation_rate:\n",
        "        chromosome[1] = random.choice(gamma_values)\n",
        "    if random.random() < mutation_rate:\n",
        "        chromosome[2] = random.choice(kernel_values)\n",
        "    return chromosome"
      ],
      "metadata": {
        "id": "3U7pR_8Cn0sN"
      },
      "execution_count": null,
      "outputs": []
    },
    {
      "cell_type": "code",
      "source": [
        "# Algoritmo genético\n",
        "def genetic_algorithm(generations=10, population_size=10):\n",
        "    population = [random_chromosome() for _ in range(population_size)]\n",
        "\n",
        "    for gen in range(generations):\n",
        "        fitnesses = [fitness(ind) for ind in population]\n",
        "        new_population = []\n",
        "\n",
        "        for _ in range(population_size):\n",
        "            p1 = selection(population, fitnesses)\n",
        "            p2 = selection(population, fitnesses)\n",
        "            child = crossover(p1, p2)\n",
        "            child = mutate(child)\n",
        "            new_population.append(child)\n",
        "\n",
        "        population = new_population\n",
        "        best_idx = np.argmax(fitnesses)\n",
        "        print(f\"Gen {gen+1} | Mejor {population[best_idx]} | Score {fitnesses[best_idx]:.4f}\")\n",
        "\n",
        "    best_idx = np.argmax(fitnesses)\n",
        "    return population[best_idx], fitnesses[best_idx]"
      ],
      "metadata": {
        "id": "SjUa5U17n0pf"
      },
      "execution_count": null,
      "outputs": []
    },
    {
      "cell_type": "code",
      "source": [
        "best_params, best_score = genetic_algorithm()\n",
        "print(\"Mejores hiperparámetros encontrados:\", best_params)\n",
        "print(\"Mejor accuracy:\", best_score)"
      ],
      "metadata": {
        "colab": {
          "base_uri": "https://localhost:8080/"
        },
        "id": "SYMqPSw3n0nD",
        "outputId": "a0fc7817-d7cf-4d49-c3ba-b2f9023dca84"
      },
      "execution_count": null,
      "outputs": [
        {
          "output_type": "stream",
          "name": "stdout",
          "text": [
            "Gen 1 | Mejor [0.1, 0.001, 'linear'] | Score 0.9933\n",
            "Gen 2 | Mejor [100, 0.01, 'poly'] | Score 0.9933\n",
            "Gen 3 | Mejor [10, 0.01, 'rbf'] | Score 0.9933\n",
            "Gen 4 | Mejor [100, 0.01, 'rbf'] | Score 0.9933\n",
            "Gen 5 | Mejor [100, 0.1, 'rbf'] | Score 0.9933\n",
            "Gen 6 | Mejor [100, 0.01, 'rbf'] | Score 0.9933\n",
            "Gen 7 | Mejor [10, 0.01, 'poly'] | Score 0.9933\n",
            "Gen 8 | Mejor [100, 0.01, 'rbf'] | Score 0.9933\n",
            "Gen 9 | Mejor [100, 0.01, 'rbf'] | Score 0.9933\n",
            "Gen 10 | Mejor [100, 0.01, 'rbf'] | Score 0.9933\n",
            "Mejores hiperparámetros encontrados: [100, 0.01, 'rbf']\n",
            "Mejor accuracy: 0.9933333333333333\n"
          ]
        }
      ]
    }
  ]
}